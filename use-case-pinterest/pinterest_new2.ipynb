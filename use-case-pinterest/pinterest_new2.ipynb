{
 "cells": [
  {
   "cell_type": "code",
   "execution_count": 1,
   "id": "ecd8a578",
   "metadata": {},
   "outputs": [],
   "source": [
    "import os\n",
    "import time\n",
    "import requests\n",
    "from bs4 import BeautifulSoup\n",
    "import gradio as gr\n",
    "import openai\n",
    "from dotenv import load_dotenv\n",
    "\n",
    "from google_auth_oauthlib.flow import InstalledAppFlow\n",
    "from googleapiclient.discovery import build\n",
    "\n",
    "# Load environment variables\n",
    "load_dotenv()\n",
    "\n",
    "# OpenAI API key\n",
    "openai.api_key = os.getenv(\"OPENAI_API_KEY\")\n",
    "\n",
    "# Blogger OAuth client file\n",
    "CLIENT_SECRET_FILE = \"client_secret.json\"  # Download from Google Cloud\n"
   ]
  },
  {
   "cell_type": "code",
   "execution_count": 2,
   "id": "82629045",
   "metadata": {},
   "outputs": [],
   "source": [
    "SCOPES = [\"https://www.googleapis.com/auth/blogger\"]\n",
    "\n",
    "def get_blogger_service():\n",
    "    flow = InstalledAppFlow.from_client_secrets_file(CLIENT_SECRET_FILE, SCOPES)\n",
    "    creds = flow.run_local_server(port=0)  # Opens browser for OAuth\n",
    "    service = build(\"blogger\", \"v3\", credentials=creds)\n",
    "    return service\n",
    "\n",
    "def get_blog_id(service):\n",
    "    \"\"\"\n",
    "    Fetches the first blog ID of the authenticated user.\n",
    "    Raises an error if no blogs exist.\n",
    "    \"\"\"\n",
    "    blogs = service.blogs().listByUser(userId=\"self\").execute()\n",
    "    if \"items\" not in blogs or not blogs[\"items\"]:\n",
    "        raise Exception(\"No blogs found. Please create a Blogger blog manually first.\")\n",
    "    blog = blogs[\"items\"][0]\n",
    "    return blog[\"id\"], blog[\"name\"]\n"
   ]
  },
  {
   "cell_type": "code",
   "execution_count": 3,
   "id": "6724ba30",
   "metadata": {},
   "outputs": [],
   "source": [
    "def scrape_pinterest_profile(username):\n",
    "    base_url = f\"https://www.pinterest.com/{username}/\"\n",
    "    headers = {\"User-Agent\": \"Mozilla/5.0\"}\n",
    "\n",
    "    r = requests.get(base_url, headers=headers)\n",
    "    if r.status_code != 200:\n",
    "        raise Exception(\"Profile not found or blocked. Make sure it's public.\")\n",
    "    soup = BeautifulSoup(r.text, \"lxml\")\n",
    "\n",
    "    # Get board links\n",
    "    board_links = []\n",
    "    for a in soup.find_all(\"a\", href=True):\n",
    "        href = a[\"href\"]\n",
    "        if href.startswith(f\"/{username}/\") and href.count(\"/\") == 2:\n",
    "            board_links.append(href)\n",
    "    board_links = list(dict.fromkeys(board_links))[:5]\n",
    "\n",
    "    boards_data = []\n",
    "    for link in board_links:\n",
    "        board_name = link.split(\"/\")[-2].replace(\"-\", \" \").title()\n",
    "        full_board_url = f\"https://www.pinterest.com{link}\"\n",
    "        try:\n",
    "            pins = scrape_board_pins(full_board_url, headers)\n",
    "            boards_data.append({\n",
    "                \"board_name\": board_name,\n",
    "                \"pins\": pins\n",
    "            })\n",
    "            time.sleep(1)\n",
    "        except Exception:\n",
    "            continue\n",
    "\n",
    "    return {\n",
    "        \"username\": username,\n",
    "        \"boards\": boards_data,\n",
    "        \"bio\": \"Pinterest explorer with aesthetic obsessions and creative chaos.\"\n",
    "    }\n",
    "\n",
    "def scrape_board_pins(board_url, headers):\n",
    "    soup = BeautifulSoup(requests.get(board_url, headers=headers).text, \"lxml\")\n",
    "    pin_texts = []\n",
    "    for tag in soup.find_all([\"h3\", \"img\", \"div\"]):\n",
    "        text = \"\"\n",
    "        if tag.name == \"h3\":\n",
    "            text = tag.get_text(strip=True)\n",
    "        elif tag.name == \"img\":\n",
    "            text = tag.get(\"alt\", \"\")\n",
    "        elif tag.name == \"div\":\n",
    "            text = tag.get_text(strip=True)\n",
    "        if text and 3 < len(text) < 120:\n",
    "            pin_texts.append(text)\n",
    "    return list(dict.fromkeys(pin_texts))[:8]\n"
   ]
  },
  {
   "cell_type": "code",
   "execution_count": 4,
   "id": "fa98e7f9",
   "metadata": {},
   "outputs": [],
   "source": [
    "def generate_blog(profile_data, tone=\"Funny\"):\n",
    "    board_descriptions = \"\"\n",
    "    for b in profile_data[\"boards\"]:\n",
    "        pins_sample = \", \".join(b[\"pins\"])\n",
    "        board_descriptions += f\"- {b['board_name']}: {pins_sample}\\n\"\n",
    "\n",
    "    prompt = f\"\"\"\n",
    "You are a witty, observant blogger.\n",
    "\n",
    "Pinterest profile data:\n",
    "Username: {profile_data['username']}\n",
    "Bio: {profile_data['bio']}\n",
    "\n",
    "Boards and sample pins:\n",
    "{board_descriptions}\n",
    "\n",
    "Write a {tone.lower()} blog (600–800 words) titled:\n",
    "\"Inside the Mind of a Pinterest Dreamer\"\n",
    "\n",
    "- Use humor, irony, and self-awareness.\n",
    "- Include subheadings.\n",
    "- End with a funny, reflective conclusion.\n",
    "\"\"\"\n",
    "\n",
    "    client = openai.OpenAI()\n",
    "    response = client.chat.completions.create(\n",
    "        model=\"gpt-4o-mini\",\n",
    "        messages=[{\"role\": \"user\", \"content\": prompt}],\n",
    "        temperature=0.8,\n",
    "        max_tokens=1200\n",
    "    )\n",
    "    return response.choices[0].message.content\n"
   ]
  },
  {
   "cell_type": "code",
   "execution_count": 5,
   "id": "1fbb3efc",
   "metadata": {},
   "outputs": [],
   "source": [
    "def publish_to_blogger(blog_id, title, content, labels=None):\n",
    "    service = get_blogger_service()\n",
    "    post_body = {\n",
    "        \"kind\": \"blogger#post\",\n",
    "        \"blog\": {\"id\": blog_id},\n",
    "        \"title\": title,\n",
    "        \"content\": content.replace(\"\\n\", \"<br>\"),\n",
    "        \"labels\": labels or []\n",
    "    }\n",
    "    post = service.posts().insert(blogId=blog_id, body=post_body, isDraft=False).execute()\n",
    "    return post[\"url\"]\n"
   ]
  },
  {
   "cell_type": "code",
   "execution_count": 6,
   "id": "c738fdc7",
   "metadata": {},
   "outputs": [],
   "source": [
    "def create_blog_and_publish(pinterest_username, tone=\"Funny\"):\n",
    "    try:\n",
    "        # Scrape Pinterest\n",
    "        profile_data = scrape_pinterest_profile(pinterest_username)\n",
    "        if not profile_data[\"boards\"]:\n",
    "            return \"⚠️ No boards or pins found (maybe a private account?).\"\n",
    "\n",
    "        # Generate blog\n",
    "        blog_text = generate_blog(profile_data, tone)\n",
    "\n",
    "        # Blogger auth & fetch existing blog\n",
    "        service = get_blogger_service()\n",
    "        blog_id, blog_name = get_blog_id(service)\n",
    "\n",
    "        # Publish post\n",
    "        url = publish_to_blogger(blog_id, f\"Inside the Mind of {pinterest_username} on Pinterest\", blog_text, labels=[\"Pinterest\", \"Humor\"])\n",
    "\n",
    "        return f\"✅ Blog published at: {url}\"\n",
    "\n",
    "    except Exception as e:\n",
    "        return f\"❌ Error occurred: {type(e).__name__} - {str(e)}\"\n"
   ]
  },
  {
   "cell_type": "code",
   "execution_count": 7,
   "id": "865a0602",
   "metadata": {},
   "outputs": [
    {
     "name": "stdout",
     "output_type": "stream",
     "text": [
      "* Running on local URL:  http://127.0.0.1:7860\n",
      "* To create a public link, set `share=True` in `launch()`.\n"
     ]
    },
    {
     "data": {
      "text/html": [
       "<div><iframe src=\"http://127.0.0.1:7860/\" width=\"100%\" height=\"500\" allow=\"autoplay; camera; microphone; clipboard-read; clipboard-write;\" frameborder=\"0\" allowfullscreen></iframe></div>"
      ],
      "text/plain": [
       "<IPython.core.display.HTML object>"
      ]
     },
     "metadata": {},
     "output_type": "display_data"
    },
    {
     "data": {
      "text/plain": []
     },
     "execution_count": 7,
     "metadata": {},
     "output_type": "execute_result"
    }
   ],
   "source": [
    "app = gr.Interface(\n",
    "    fn=create_blog_and_publish,\n",
    "    inputs=[\n",
    "        gr.Textbox(label=\"Pinterest Username\", placeholder=\"e.g. artandmatcha\"),\n",
    "        gr.Radio([\"Funny\", \"Poetic\", \"Sarcastic\"], label=\"Tone\", value=\"Funny\")\n",
    "    ],\n",
    "    outputs=gr.Textbox(label=\"Status\"),\n",
    "    title=\"🎨 Pinterest → GPT-4o-mini → Blogger Auto Publisher\",\n",
    "    description=\"Scrapes a Pinterest profile, generates a humorous blog, and publishes to Blogger automatically. Requires a manually created blog.\"\n",
    ")\n",
    "\n",
    "app.launch()\n"
   ]
  },
  {
   "cell_type": "code",
   "execution_count": null,
   "id": "c70aea49",
   "metadata": {},
   "outputs": [],
   "source": []
  }
 ],
 "metadata": {
  "kernelspec": {
   "display_name": "Python 3",
   "language": "python",
   "name": "python3"
  },
  "language_info": {
   "codemirror_mode": {
    "name": "ipython",
    "version": 3
   },
   "file_extension": ".py",
   "mimetype": "text/x-python",
   "name": "python",
   "nbconvert_exporter": "python",
   "pygments_lexer": "ipython3",
   "version": "3.13.2"
  }
 },
 "nbformat": 4,
 "nbformat_minor": 5
}
